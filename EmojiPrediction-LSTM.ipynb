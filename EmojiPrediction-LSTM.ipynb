{
 "cells": [
  {
   "cell_type": "code",
   "execution_count": 126,
   "metadata": {},
   "outputs": [],
   "source": [
    "import numpy as np\n",
    "import pandas as pd"
   ]
  },
  {
   "cell_type": "code",
   "execution_count": 127,
   "metadata": {},
   "outputs": [],
   "source": [
    "train = pd.read_csv('Dataset/train_emoji.csv',header=None)\n",
    "test = pd.read_csv('Dataset/test_emoji.csv',header=None)"
   ]
  },
  {
   "cell_type": "code",
   "execution_count": 128,
   "metadata": {},
   "outputs": [
    {
     "data": {
      "text/html": [
       "<div>\n",
       "<style scoped>\n",
       "    .dataframe tbody tr th:only-of-type {\n",
       "        vertical-align: middle;\n",
       "    }\n",
       "\n",
       "    .dataframe tbody tr th {\n",
       "        vertical-align: top;\n",
       "    }\n",
       "\n",
       "    .dataframe thead th {\n",
       "        text-align: right;\n",
       "    }\n",
       "</style>\n",
       "<table border=\"1\" class=\"dataframe\">\n",
       "  <thead>\n",
       "    <tr style=\"text-align: right;\">\n",
       "      <th></th>\n",
       "      <th>0</th>\n",
       "      <th>1</th>\n",
       "      <th>2</th>\n",
       "      <th>3</th>\n",
       "    </tr>\n",
       "  </thead>\n",
       "  <tbody>\n",
       "    <tr>\n",
       "      <th>0</th>\n",
       "      <td>never talk to me again</td>\n",
       "      <td>3</td>\n",
       "      <td>NaN</td>\n",
       "      <td>NaN</td>\n",
       "    </tr>\n",
       "    <tr>\n",
       "      <th>1</th>\n",
       "      <td>I am proud of your achievements</td>\n",
       "      <td>2</td>\n",
       "      <td>NaN</td>\n",
       "      <td>NaN</td>\n",
       "    </tr>\n",
       "    <tr>\n",
       "      <th>2</th>\n",
       "      <td>It is the worst day in my life</td>\n",
       "      <td>3</td>\n",
       "      <td>NaN</td>\n",
       "      <td>NaN</td>\n",
       "    </tr>\n",
       "    <tr>\n",
       "      <th>3</th>\n",
       "      <td>Miss you so much</td>\n",
       "      <td>0</td>\n",
       "      <td>NaN</td>\n",
       "      <td>[0]</td>\n",
       "    </tr>\n",
       "    <tr>\n",
       "      <th>4</th>\n",
       "      <td>food is life</td>\n",
       "      <td>4</td>\n",
       "      <td>NaN</td>\n",
       "      <td>NaN</td>\n",
       "    </tr>\n",
       "  </tbody>\n",
       "</table>\n",
       "</div>"
      ],
      "text/plain": [
       "                                 0  1   2     3\n",
       "0           never talk to me again  3 NaN   NaN\n",
       "1  I am proud of your achievements  2 NaN   NaN\n",
       "2   It is the worst day in my life  3 NaN   NaN\n",
       "3                 Miss you so much  0 NaN   [0]\n",
       "4                     food is life  4 NaN   NaN"
      ]
     },
     "execution_count": 128,
     "metadata": {},
     "output_type": "execute_result"
    }
   ],
   "source": [
    "train.head()"
   ]
  },
  {
   "cell_type": "code",
   "execution_count": 129,
   "metadata": {},
   "outputs": [],
   "source": [
    "import emoji"
   ]
  },
  {
   "cell_type": "code",
   "execution_count": 130,
   "metadata": {},
   "outputs": [],
   "source": [
    "# emoji.EMOJI_UNICODE"
   ]
  },
  {
   "cell_type": "code",
   "execution_count": 131,
   "metadata": {},
   "outputs": [],
   "source": [
    "emoji_dictionary = {\"0\": \"\\u2764\\uFE0F\",    # :heart: prints a black instead of red heart depending on the font\n",
    "                    \"1\": \":baseball:\",\n",
    "                    \"2\": \":beaming_face_with_smiling_eyes:\",\n",
    "                    \"3\": \":downcast_face_with_sweat:\",\n",
    "                    \"4\": \":fork_and_knife:\",\n",
    "                   }"
   ]
  },
  {
   "cell_type": "code",
   "execution_count": 132,
   "metadata": {},
   "outputs": [
    {
     "name": "stdout",
     "output_type": "stream",
     "text": [
      "❤️\n",
      "⚾\n",
      "😁\n",
      "😓\n",
      "🍴\n"
     ]
    }
   ],
   "source": [
    "for e in emoji_dictionary.values():\n",
    "    print(emoji.emojize(e))"
   ]
  },
  {
   "cell_type": "code",
   "execution_count": 133,
   "metadata": {},
   "outputs": [],
   "source": [
    "Xtrain = train[0]\n",
    "Ytrain = train[1]\n",
    "\n",
    "Xtest = test[0]\n",
    "Ytest = test[1]\n"
   ]
  },
  {
   "cell_type": "code",
   "execution_count": 134,
   "metadata": {},
   "outputs": [
    {
     "name": "stdout",
     "output_type": "stream",
     "text": [
      "never talk to me again 😓\n",
      "I am proud of your achievements 😁\n",
      "It is the worst day in my life 😓\n",
      "Miss you so much ❤️\n",
      "food is life 🍴\n",
      "I love you mum ❤️\n",
      "Stop saying bullshit 😓\n",
      "congratulations on your acceptance 😁\n",
      "The assignment is too long  😓\n",
      "I want to go play ⚾\n"
     ]
    }
   ],
   "source": [
    "# printing sentences along with emojis\n",
    "for i in range(10):\n",
    "    print(Xtrain[i],emoji.emojize(emoji_dictionary[str(Ytrain[i])]))"
   ]
  },
  {
   "cell_type": "code",
   "execution_count": 135,
   "metadata": {},
   "outputs": [],
   "source": [
    "f = open('glove.6B.50d.txt',encoding='utf8')"
   ]
  },
  {
   "cell_type": "code",
   "execution_count": 136,
   "metadata": {},
   "outputs": [],
   "source": [
    "embeddings_index = {}\n",
    "for line in f:\n",
    "    values = line.split()\n",
    "    word = values[0]\n",
    "    coeffs = np.asarray(values[1:],dtype='float32')\n",
    "    embeddings_index[word] = coeffs\n",
    "f.close()"
   ]
  },
  {
   "cell_type": "code",
   "execution_count": 137,
   "metadata": {},
   "outputs": [
    {
     "name": "stdout",
     "output_type": "stream",
     "text": [
      "(50,)\n"
     ]
    }
   ],
   "source": [
    "emd_dim = embeddings_index['eat'].shape\n",
    "print(emd_dim)"
   ]
  },
  {
   "cell_type": "markdown",
   "metadata": {},
   "source": [
    "### Converting sentences into vectors"
   ]
  },
  {
   "cell_type": "code",
   "execution_count": 138,
   "metadata": {},
   "outputs": [],
   "source": [
    "def getOutputEmbeddings(X):\n",
    "    maxlen = 10\n",
    "    embedding_output_matrix = np.zeros((X.shape[0],maxlen,50))\n",
    "    \n",
    "    for ix in range(X.shape[0]):\n",
    "        X[ix] = X[ix].split()\n",
    "        \n",
    "        for jx in range(len(X[ix])):\n",
    "            embedding_output_matrix[ix][jx] = embeddings_index[X[ix][jx].lower()]\n",
    "    return embedding_output_matrix"
   ]
  },
  {
   "cell_type": "code",
   "execution_count": 139,
   "metadata": {},
   "outputs": [
    {
     "name": "stderr",
     "output_type": "stream",
     "text": [
      "c:\\program files\\python36\\lib\\site-packages\\ipykernel_launcher.py:6: SettingWithCopyWarning: \n",
      "A value is trying to be set on a copy of a slice from a DataFrame\n",
      "\n",
      "See the caveats in the documentation: http://pandas.pydata.org/pandas-docs/stable/user_guide/indexing.html#returning-a-view-versus-a-copy\n",
      "  \n"
     ]
    }
   ],
   "source": [
    "emb_Xtrain = getOutputEmbeddings(Xtrain)\n",
    "emb_Xtest = getOutputEmbeddings(Xtest)"
   ]
  },
  {
   "cell_type": "code",
   "execution_count": 140,
   "metadata": {},
   "outputs": [],
   "source": [
    "from keras.utils import np_utils"
   ]
  },
  {
   "cell_type": "code",
   "execution_count": 141,
   "metadata": {},
   "outputs": [],
   "source": [
    "Ytrain = np_utils.to_categorical(Ytrain)\n",
    "Ytest = np_utils.to_categorical(Ytest)\n"
   ]
  },
  {
   "cell_type": "markdown",
   "metadata": {},
   "source": [
    "### Define RNN/LSTM Model"
   ]
  },
  {
   "cell_type": "code",
   "execution_count": 142,
   "metadata": {},
   "outputs": [],
   "source": [
    "from keras.models import Sequential\n",
    "from keras.layers import *"
   ]
  },
  {
   "cell_type": "code",
   "execution_count": 154,
   "metadata": {},
   "outputs": [
    {
     "name": "stdout",
     "output_type": "stream",
     "text": [
      "Model: \"sequential_7\"\n",
      "_________________________________________________________________\n",
      "Layer (type)                 Output Shape              Param #   \n",
      "=================================================================\n",
      "lstm_8 (LSTM)                (None, 10, 64)            29440     \n",
      "_________________________________________________________________\n",
      "dropout_8 (Dropout)          (None, 10, 64)            0         \n",
      "_________________________________________________________________\n",
      "lstm_9 (LSTM)                (None, 64)                33024     \n",
      "_________________________________________________________________\n",
      "dropout_9 (Dropout)          (None, 64)                0         \n",
      "_________________________________________________________________\n",
      "dense_7 (Dense)              (None, 5)                 325       \n",
      "_________________________________________________________________\n",
      "activation_7 (Activation)    (None, 5)                 0         \n",
      "=================================================================\n",
      "Total params: 62,789\n",
      "Trainable params: 62,789\n",
      "Non-trainable params: 0\n",
      "_________________________________________________________________\n"
     ]
    }
   ],
   "source": [
    "model = Sequential()\n",
    "model.add(LSTM(64,input_shape=(10,50),return_sequences=True))\n",
    "model.add(Dropout(0.5))\n",
    "model.add(LSTM(64,return_sequences=False))\n",
    "model.add(Dropout(0.5))\n",
    "model.add(Dense(5))\n",
    "model.add(Activation('softmax'))\n",
    "model.compile(loss='categorical_crossentropy',optimizer = 'adam',metrics=['accuracy'])\n",
    "model.summary()"
   ]
  },
  {
   "cell_type": "code",
   "execution_count": 159,
   "metadata": {},
   "outputs": [
    {
     "name": "stdout",
     "output_type": "stream",
     "text": [
      "Train on 105 samples, validate on 27 samples\n",
      "Epoch 1/150\n",
      "105/105 [==============================] - 0s 494us/step - loss: 0.0080 - accuracy: 1.0000 - val_loss: 1.6053 - val_accuracy: 0.7407\n",
      "Epoch 2/150\n",
      "105/105 [==============================] - 0s 476us/step - loss: 0.0032 - accuracy: 1.0000 - val_loss: 1.6253 - val_accuracy: 0.6667\n",
      "Epoch 3/150\n",
      "105/105 [==============================] - 0s 465us/step - loss: 0.0030 - accuracy: 1.0000 - val_loss: 1.6433 - val_accuracy: 0.6667\n",
      "Epoch 4/150\n",
      "105/105 [==============================] - 0s 465us/step - loss: 0.0040 - accuracy: 1.0000 - val_loss: 1.6534 - val_accuracy: 0.6667\n",
      "Epoch 5/150\n",
      "105/105 [==============================] - 0s 451us/step - loss: 0.0039 - accuracy: 1.0000 - val_loss: 1.6627 - val_accuracy: 0.6667\n",
      "Epoch 6/150\n",
      "105/105 [==============================] - 0s 446us/step - loss: 0.0044 - accuracy: 1.0000 - val_loss: 1.6726 - val_accuracy: 0.6296\n",
      "Epoch 7/150\n",
      "105/105 [==============================] - 0s 456us/step - loss: 0.0044 - accuracy: 1.0000 - val_loss: 1.6830 - val_accuracy: 0.6296\n",
      "Epoch 8/150\n",
      "105/105 [==============================] - 0s 465us/step - loss: 0.0042 - accuracy: 1.0000 - val_loss: 1.6897 - val_accuracy: 0.6296\n",
      "Epoch 9/150\n",
      "105/105 [==============================] - 0s 503us/step - loss: 0.0064 - accuracy: 1.0000 - val_loss: 1.6753 - val_accuracy: 0.6296\n",
      "Epoch 10/150\n",
      "105/105 [==============================] - 0s 465us/step - loss: 0.0035 - accuracy: 1.0000 - val_loss: 1.6593 - val_accuracy: 0.6296\n",
      "Epoch 11/150\n",
      "105/105 [==============================] - 0s 465us/step - loss: 0.0072 - accuracy: 1.0000 - val_loss: 1.6275 - val_accuracy: 0.6296\n",
      "Epoch 12/150\n",
      "105/105 [==============================] - 0s 484us/step - loss: 0.0042 - accuracy: 1.0000 - val_loss: 1.5995 - val_accuracy: 0.6667\n",
      "Epoch 13/150\n",
      "105/105 [==============================] - 0s 465us/step - loss: 0.0033 - accuracy: 1.0000 - val_loss: 1.5783 - val_accuracy: 0.7037\n",
      "Epoch 14/150\n",
      "105/105 [==============================] - 0s 513us/step - loss: 0.0027 - accuracy: 1.0000 - val_loss: 1.5679 - val_accuracy: 0.7037\n",
      "Epoch 15/150\n",
      "105/105 [==============================] - 0s 475us/step - loss: 0.0027 - accuracy: 1.0000 - val_loss: 1.5723 - val_accuracy: 0.7037\n",
      "Epoch 16/150\n",
      "105/105 [==============================] - 0s 456us/step - loss: 0.0028 - accuracy: 1.0000 - val_loss: 1.5809 - val_accuracy: 0.7037\n",
      "Epoch 17/150\n",
      "105/105 [==============================] - 0s 503us/step - loss: 0.0026 - accuracy: 1.0000 - val_loss: 1.5857 - val_accuracy: 0.7037\n",
      "Epoch 18/150\n",
      "105/105 [==============================] - 0s 465us/step - loss: 0.0038 - accuracy: 1.0000 - val_loss: 1.5870 - val_accuracy: 0.7037\n",
      "Epoch 19/150\n",
      "105/105 [==============================] - 0s 494us/step - loss: 0.0034 - accuracy: 1.0000 - val_loss: 1.5966 - val_accuracy: 0.7037\n",
      "Epoch 20/150\n",
      "105/105 [==============================] - 0s 465us/step - loss: 0.0032 - accuracy: 1.0000 - val_loss: 1.6032 - val_accuracy: 0.7037\n",
      "Epoch 21/150\n",
      "105/105 [==============================] - 0s 466us/step - loss: 0.0041 - accuracy: 1.0000 - val_loss: 1.6074 - val_accuracy: 0.7037\n",
      "Epoch 22/150\n",
      "105/105 [==============================] - 0s 446us/step - loss: 0.0033 - accuracy: 1.0000 - val_loss: 1.6121 - val_accuracy: 0.7037\n",
      "Epoch 23/150\n",
      "105/105 [==============================] - 0s 475us/step - loss: 0.0041 - accuracy: 1.0000 - val_loss: 1.6099 - val_accuracy: 0.7037\n",
      "Epoch 24/150\n",
      "105/105 [==============================] - 0s 510us/step - loss: 0.0025 - accuracy: 1.0000 - val_loss: 1.6124 - val_accuracy: 0.7037\n",
      "Epoch 25/150\n",
      "105/105 [==============================] - 0s 522us/step - loss: 0.0035 - accuracy: 1.0000 - val_loss: 1.6104 - val_accuracy: 0.7037\n",
      "Epoch 26/150\n",
      "105/105 [==============================] - 0s 475us/step - loss: 0.0030 - accuracy: 1.0000 - val_loss: 1.6089 - val_accuracy: 0.7037\n",
      "Epoch 27/150\n",
      "105/105 [==============================] - 0s 475us/step - loss: 0.0034 - accuracy: 1.0000 - val_loss: 1.6077 - val_accuracy: 0.7037\n",
      "Epoch 28/150\n",
      "105/105 [==============================] - 0s 568us/step - loss: 0.0040 - accuracy: 1.0000 - val_loss: 1.6148 - val_accuracy: 0.7037\n",
      "Epoch 29/150\n",
      "105/105 [==============================] - 0s 684us/step - loss: 0.0028 - accuracy: 1.0000 - val_loss: 1.6228 - val_accuracy: 0.7037\n",
      "Epoch 30/150\n",
      "105/105 [==============================] - 0s 655us/step - loss: 0.0023 - accuracy: 1.0000 - val_loss: 1.6305 - val_accuracy: 0.7037\n",
      "Epoch 31/150\n",
      "105/105 [==============================] - 0s 646us/step - loss: 0.0022 - accuracy: 1.0000 - val_loss: 1.6353 - val_accuracy: 0.7037\n",
      "Epoch 32/150\n",
      "105/105 [==============================] - 0s 684us/step - loss: 0.0028 - accuracy: 1.0000 - val_loss: 1.6404 - val_accuracy: 0.6667\n",
      "Epoch 33/150\n",
      "105/105 [==============================] - 0s 627us/step - loss: 0.0031 - accuracy: 1.0000 - val_loss: 1.6473 - val_accuracy: 0.6667\n",
      "Epoch 34/150\n",
      "105/105 [==============================] - 0s 608us/step - loss: 0.0036 - accuracy: 1.0000 - val_loss: 1.6559 - val_accuracy: 0.6667\n",
      "Epoch 35/150\n",
      "105/105 [==============================] - 0s 598us/step - loss: 0.0027 - accuracy: 1.0000 - val_loss: 1.6769 - val_accuracy: 0.6667\n",
      "Epoch 36/150\n",
      "105/105 [==============================] - 0s 560us/step - loss: 0.0030 - accuracy: 1.0000 - val_loss: 1.7002 - val_accuracy: 0.6667\n",
      "Epoch 37/150\n",
      "105/105 [==============================] - 0s 494us/step - loss: 0.0036 - accuracy: 1.0000 - val_loss: 1.7081 - val_accuracy: 0.7037\n",
      "Epoch 38/150\n",
      "105/105 [==============================] - 0s 475us/step - loss: 0.0024 - accuracy: 1.0000 - val_loss: 1.7034 - val_accuracy: 0.7037\n",
      "Epoch 39/150\n",
      "105/105 [==============================] - 0s 418us/step - loss: 0.0026 - accuracy: 1.0000 - val_loss: 1.7042 - val_accuracy: 0.7037\n",
      "Epoch 40/150\n",
      "105/105 [==============================] - 0s 408us/step - loss: 0.0024 - accuracy: 1.0000 - val_loss: 1.7116 - val_accuracy: 0.6667\n",
      "Epoch 41/150\n",
      "105/105 [==============================] - 0s 418us/step - loss: 0.0033 - accuracy: 1.0000 - val_loss: 1.7275 - val_accuracy: 0.6667\n",
      "Epoch 42/150\n",
      "105/105 [==============================] - 0s 503us/step - loss: 0.0033 - accuracy: 1.0000 - val_loss: 1.7351 - val_accuracy: 0.6296\n",
      "Epoch 43/150\n",
      "105/105 [==============================] - 0s 399us/step - loss: 0.0040 - accuracy: 1.0000 - val_loss: 1.7413 - val_accuracy: 0.6296\n",
      "Epoch 44/150\n",
      "105/105 [==============================] - 0s 475us/step - loss: 0.0024 - accuracy: 1.0000 - val_loss: 1.7506 - val_accuracy: 0.6296\n",
      "Epoch 45/150\n",
      "105/105 [==============================] - 0s 437us/step - loss: 0.0032 - accuracy: 1.0000 - val_loss: 1.7601 - val_accuracy: 0.6296\n",
      "Epoch 46/150\n",
      "105/105 [==============================] - 0s 432us/step - loss: 0.0032 - accuracy: 1.0000 - val_loss: 1.7601 - val_accuracy: 0.6296\n",
      "Epoch 47/150\n",
      "105/105 [==============================] - 0s 399us/step - loss: 0.0079 - accuracy: 1.0000 - val_loss: 1.7080 - val_accuracy: 0.6667\n",
      "Epoch 48/150\n",
      "105/105 [==============================] - 0s 408us/step - loss: 0.0018 - accuracy: 1.0000 - val_loss: 1.6778 - val_accuracy: 0.7037\n",
      "Epoch 49/150\n",
      "105/105 [==============================] - 0s 456us/step - loss: 0.0035 - accuracy: 1.0000 - val_loss: 1.6730 - val_accuracy: 0.7037\n",
      "Epoch 50/150\n",
      "105/105 [==============================] - 0s 433us/step - loss: 0.0027 - accuracy: 1.0000 - val_loss: 1.6715 - val_accuracy: 0.6667\n",
      "Epoch 51/150\n",
      "105/105 [==============================] - 0s 428us/step - loss: 0.0023 - accuracy: 1.0000 - val_loss: 1.6688 - val_accuracy: 0.6667\n",
      "Epoch 52/150\n",
      "105/105 [==============================] - 0s 399us/step - loss: 0.0185 - accuracy: 0.9905 - val_loss: 2.0322 - val_accuracy: 0.6296\n",
      "Epoch 53/150\n",
      "105/105 [==============================] - 0s 465us/step - loss: 0.0653 - accuracy: 0.9905 - val_loss: 2.0228 - val_accuracy: 0.6296\n",
      "Epoch 54/150\n",
      "105/105 [==============================] - 0s 446us/step - loss: 0.0039 - accuracy: 1.0000 - val_loss: 1.7966 - val_accuracy: 0.7037\n",
      "Epoch 55/150\n",
      "105/105 [==============================] - 0s 399us/step - loss: 0.0043 - accuracy: 1.0000 - val_loss: 1.6317 - val_accuracy: 0.7037\n",
      "Epoch 56/150\n",
      "105/105 [==============================] - 0s 490us/step - loss: 0.0061 - accuracy: 1.0000 - val_loss: 1.5763 - val_accuracy: 0.7037\n"
     ]
    },
    {
     "name": "stdout",
     "output_type": "stream",
     "text": [
      "Epoch 57/150\n",
      "105/105 [==============================] - 0s 446us/step - loss: 0.0027 - accuracy: 1.0000 - val_loss: 1.6084 - val_accuracy: 0.7037\n",
      "Epoch 58/150\n",
      "105/105 [==============================] - 0s 361us/step - loss: 0.0049 - accuracy: 1.0000 - val_loss: 1.5720 - val_accuracy: 0.7037\n",
      "Epoch 59/150\n",
      "105/105 [==============================] - 0s 408us/step - loss: 0.0047 - accuracy: 1.0000 - val_loss: 1.5232 - val_accuracy: 0.7407\n",
      "Epoch 60/150\n",
      "105/105 [==============================] - 0s 427us/step - loss: 0.0056 - accuracy: 1.0000 - val_loss: 1.4463 - val_accuracy: 0.7037\n",
      "Epoch 61/150\n",
      "105/105 [==============================] - 0s 390us/step - loss: 0.0042 - accuracy: 1.0000 - val_loss: 1.4694 - val_accuracy: 0.7037\n",
      "Epoch 62/150\n",
      "105/105 [==============================] - 0s 427us/step - loss: 0.0024 - accuracy: 1.0000 - val_loss: 1.5247 - val_accuracy: 0.7407\n",
      "Epoch 63/150\n",
      "105/105 [==============================] - 0s 408us/step - loss: 0.0026 - accuracy: 1.0000 - val_loss: 1.5747 - val_accuracy: 0.7037\n",
      "Epoch 64/150\n",
      "105/105 [==============================] - 0s 437us/step - loss: 0.0024 - accuracy: 1.0000 - val_loss: 1.6434 - val_accuracy: 0.6667\n",
      "Epoch 65/150\n",
      "105/105 [==============================] - 0s 418us/step - loss: 0.0029 - accuracy: 1.0000 - val_loss: 1.7225 - val_accuracy: 0.6667\n",
      "Epoch 66/150\n",
      "105/105 [==============================] - 0s 427us/step - loss: 0.0035 - accuracy: 1.0000 - val_loss: 1.7856 - val_accuracy: 0.6667\n",
      "Epoch 67/150\n",
      "105/105 [==============================] - 0s 427us/step - loss: 0.0027 - accuracy: 1.0000 - val_loss: 1.8317 - val_accuracy: 0.6296\n",
      "Epoch 68/150\n",
      "105/105 [==============================] - 0s 389us/step - loss: 0.0016 - accuracy: 1.0000 - val_loss: 1.8626 - val_accuracy: 0.6296\n",
      "Epoch 69/150\n",
      "105/105 [==============================] - 0s 389us/step - loss: 0.0027 - accuracy: 1.0000 - val_loss: 1.8691 - val_accuracy: 0.6296\n",
      "Epoch 70/150\n",
      "105/105 [==============================] - 0s 437us/step - loss: 0.0047 - accuracy: 1.0000 - val_loss: 1.8482 - val_accuracy: 0.6296\n",
      "Epoch 71/150\n",
      "105/105 [==============================] - 0s 399us/step - loss: 0.0020 - accuracy: 1.0000 - val_loss: 1.8087 - val_accuracy: 0.6667\n",
      "Epoch 72/150\n",
      "105/105 [==============================] - 0s 399us/step - loss: 0.0029 - accuracy: 1.0000 - val_loss: 1.7627 - val_accuracy: 0.6667\n",
      "Epoch 73/150\n",
      "105/105 [==============================] - 0s 408us/step - loss: 0.0022 - accuracy: 1.0000 - val_loss: 1.7184 - val_accuracy: 0.6667\n",
      "Epoch 74/150\n",
      "105/105 [==============================] - 0s 427us/step - loss: 0.0024 - accuracy: 1.0000 - val_loss: 1.6806 - val_accuracy: 0.6667\n",
      "Epoch 75/150\n",
      "105/105 [==============================] - 0s 418us/step - loss: 0.0028 - accuracy: 1.0000 - val_loss: 1.6497 - val_accuracy: 0.6667\n",
      "Epoch 76/150\n",
      "105/105 [==============================] - 0s 389us/step - loss: 0.0028 - accuracy: 1.0000 - val_loss: 1.6195 - val_accuracy: 0.6667\n",
      "Epoch 77/150\n",
      "105/105 [==============================] - 0s 389us/step - loss: 0.0019 - accuracy: 1.0000 - val_loss: 1.5913 - val_accuracy: 0.6667\n",
      "Epoch 78/150\n",
      "105/105 [==============================] - 0s 418us/step - loss: 0.0024 - accuracy: 1.0000 - val_loss: 1.5603 - val_accuracy: 0.6667\n",
      "Epoch 79/150\n",
      "105/105 [==============================] - 0s 425us/step - loss: 0.0021 - accuracy: 1.0000 - val_loss: 1.5465 - val_accuracy: 0.7037\n",
      "Epoch 80/150\n",
      "105/105 [==============================] - 0s 418us/step - loss: 0.0015 - accuracy: 1.0000 - val_loss: 1.5551 - val_accuracy: 0.7037\n",
      "Epoch 81/150\n",
      "105/105 [==============================] - 0s 380us/step - loss: 0.0035 - accuracy: 1.0000 - val_loss: 1.5686 - val_accuracy: 0.7037\n",
      "Epoch 82/150\n",
      "105/105 [==============================] - 0s 427us/step - loss: 0.0019 - accuracy: 1.0000 - val_loss: 1.5770 - val_accuracy: 0.7407\n",
      "Epoch 83/150\n",
      "105/105 [==============================] - 0s 437us/step - loss: 0.0016 - accuracy: 1.0000 - val_loss: 1.5826 - val_accuracy: 0.7407\n",
      "Epoch 84/150\n",
      "105/105 [==============================] - 0s 427us/step - loss: 0.0029 - accuracy: 1.0000 - val_loss: 1.5850 - val_accuracy: 0.7407\n",
      "Epoch 85/150\n",
      "105/105 [==============================] - 0s 370us/step - loss: 0.0021 - accuracy: 1.0000 - val_loss: 1.5888 - val_accuracy: 0.7407\n",
      "Epoch 86/150\n",
      "105/105 [==============================] - 0s 399us/step - loss: 0.0015 - accuracy: 1.0000 - val_loss: 1.5933 - val_accuracy: 0.7407\n",
      "Epoch 87/150\n",
      "105/105 [==============================] - 0s 427us/step - loss: 0.0022 - accuracy: 1.0000 - val_loss: 1.5953 - val_accuracy: 0.7407\n",
      "Epoch 88/150\n",
      "105/105 [==============================] - 0s 446us/step - loss: 0.0025 - accuracy: 1.0000 - val_loss: 1.5973 - val_accuracy: 0.7407\n",
      "Epoch 89/150\n",
      "105/105 [==============================] - 0s 437us/step - loss: 0.0023 - accuracy: 1.0000 - val_loss: 1.5996 - val_accuracy: 0.7407\n",
      "Epoch 90/150\n",
      "105/105 [==============================] - 0s 408us/step - loss: 0.0015 - accuracy: 1.0000 - val_loss: 1.6030 - val_accuracy: 0.7407\n",
      "Epoch 91/150\n",
      "105/105 [==============================] - 0s 421us/step - loss: 0.0022 - accuracy: 1.0000 - val_loss: 1.6045 - val_accuracy: 0.7407\n",
      "Epoch 92/150\n",
      "105/105 [==============================] - 0s 446us/step - loss: 0.0032 - accuracy: 1.0000 - val_loss: 1.6052 - val_accuracy: 0.7407\n",
      "Epoch 93/150\n",
      "105/105 [==============================] - 0s 394us/step - loss: 0.0025 - accuracy: 1.0000 - val_loss: 1.5972 - val_accuracy: 0.7407\n",
      "Epoch 94/150\n",
      "105/105 [==============================] - 0s 418us/step - loss: 0.0027 - accuracy: 1.0000 - val_loss: 1.6040 - val_accuracy: 0.7407\n",
      "Epoch 95/150\n",
      "105/105 [==============================] - 0s 418us/step - loss: 0.0024 - accuracy: 1.0000 - val_loss: 1.6179 - val_accuracy: 0.7407\n",
      "Epoch 96/150\n",
      "105/105 [==============================] - 0s 437us/step - loss: 0.0017 - accuracy: 1.0000 - val_loss: 1.6329 - val_accuracy: 0.7407\n",
      "Epoch 97/150\n",
      "105/105 [==============================] - 0s 427us/step - loss: 0.0019 - accuracy: 1.0000 - val_loss: 1.6417 - val_accuracy: 0.7407\n",
      "Epoch 98/150\n",
      "105/105 [==============================] - 0s 389us/step - loss: 0.0031 - accuracy: 1.0000 - val_loss: 1.6497 - val_accuracy: 0.7407\n",
      "Epoch 99/150\n",
      "105/105 [==============================] - 0s 399us/step - loss: 0.0014 - accuracy: 1.0000 - val_loss: 1.6547 - val_accuracy: 0.7407\n",
      "Epoch 100/150\n",
      "105/105 [==============================] - 0s 427us/step - loss: 0.0036 - accuracy: 1.0000 - val_loss: 1.6402 - val_accuracy: 0.7407\n",
      "Epoch 101/150\n",
      "105/105 [==============================] - 0s 437us/step - loss: 0.0027 - accuracy: 1.0000 - val_loss: 1.6142 - val_accuracy: 0.7407\n",
      "Epoch 102/150\n",
      "105/105 [==============================] - 0s 427us/step - loss: 0.0037 - accuracy: 1.0000 - val_loss: 1.6127 - val_accuracy: 0.7037\n",
      "Epoch 103/150\n",
      "105/105 [==============================] - 0s 446us/step - loss: 0.0019 - accuracy: 1.0000 - val_loss: 1.6308 - val_accuracy: 0.6667\n",
      "Epoch 104/150\n",
      "105/105 [==============================] - 0s 418us/step - loss: 0.0016 - accuracy: 1.0000 - val_loss: 1.6492 - val_accuracy: 0.6667\n",
      "Epoch 105/150\n",
      "105/105 [==============================] - 0s 408us/step - loss: 0.0016 - accuracy: 1.0000 - val_loss: 1.6638 - val_accuracy: 0.6667\n",
      "Epoch 106/150\n",
      "105/105 [==============================] - 0s 408us/step - loss: 0.0020 - accuracy: 1.0000 - val_loss: 1.6661 - val_accuracy: 0.6667\n",
      "Epoch 107/150\n",
      "105/105 [==============================] - 0s 465us/step - loss: 0.0023 - accuracy: 1.0000 - val_loss: 1.6675 - val_accuracy: 0.6667\n",
      "Epoch 108/150\n",
      "105/105 [==============================] - 0s 399us/step - loss: 0.0015 - accuracy: 1.0000 - val_loss: 1.6687 - val_accuracy: 0.6667\n",
      "Epoch 109/150\n",
      "105/105 [==============================] - 0s 418us/step - loss: 0.0032 - accuracy: 1.0000 - val_loss: 1.6281 - val_accuracy: 0.6667\n",
      "Epoch 110/150\n",
      "105/105 [==============================] - 0s 617us/step - loss: 0.0023 - accuracy: 1.0000 - val_loss: 1.6083 - val_accuracy: 0.7407\n",
      "Epoch 111/150\n",
      "105/105 [==============================] - 0s 475us/step - loss: 0.0019 - accuracy: 1.0000 - val_loss: 1.6334 - val_accuracy: 0.7407\n",
      "Epoch 112/150\n",
      "105/105 [==============================] - 0s 432us/step - loss: 0.0020 - accuracy: 1.0000 - val_loss: 1.6636 - val_accuracy: 0.7407\n",
      "Epoch 113/150\n"
     ]
    },
    {
     "name": "stdout",
     "output_type": "stream",
     "text": [
      "105/105 [==============================] - 0s 427us/step - loss: 0.0012 - accuracy: 1.0000 - val_loss: 1.6878 - val_accuracy: 0.7407\n",
      "Epoch 114/150\n",
      "105/105 [==============================] - 0s 404us/step - loss: 0.0017 - accuracy: 1.0000 - val_loss: 1.7093 - val_accuracy: 0.7407\n",
      "Epoch 115/150\n",
      "105/105 [==============================] - 0s 418us/step - loss: 0.0017 - accuracy: 1.0000 - val_loss: 1.7260 - val_accuracy: 0.7407\n",
      "Epoch 116/150\n",
      "105/105 [==============================] - 0s 380us/step - loss: 0.0017 - accuracy: 1.0000 - val_loss: 1.7175 - val_accuracy: 0.7407\n",
      "Epoch 117/150\n",
      "105/105 [==============================] - 0s 437us/step - loss: 0.0019 - accuracy: 1.0000 - val_loss: 1.7093 - val_accuracy: 0.7407\n",
      "Epoch 118/150\n",
      "105/105 [==============================] - 0s 418us/step - loss: 0.0014 - accuracy: 1.0000 - val_loss: 1.7017 - val_accuracy: 0.7407\n",
      "Epoch 119/150\n",
      "105/105 [==============================] - 0s 380us/step - loss: 0.0023 - accuracy: 1.0000 - val_loss: 1.6895 - val_accuracy: 0.7407\n",
      "Epoch 120/150\n",
      "105/105 [==============================] - 0s 399us/step - loss: 0.0040 - accuracy: 1.0000 - val_loss: 1.6765 - val_accuracy: 0.7407\n",
      "Epoch 121/150\n",
      "105/105 [==============================] - 0s 427us/step - loss: 0.0029 - accuracy: 1.0000 - val_loss: 1.6878 - val_accuracy: 0.7407\n",
      "Epoch 122/150\n",
      "105/105 [==============================] - 0s 428us/step - loss: 0.0013 - accuracy: 1.0000 - val_loss: 1.7176 - val_accuracy: 0.7407\n",
      "Epoch 123/150\n",
      "105/105 [==============================] - 0s 390us/step - loss: 0.0014 - accuracy: 1.0000 - val_loss: 1.7390 - val_accuracy: 0.7407\n",
      "Epoch 124/150\n",
      "105/105 [==============================] - 0s 389us/step - loss: 0.0026 - accuracy: 1.0000 - val_loss: 1.7601 - val_accuracy: 0.7407\n",
      "Epoch 125/150\n",
      "105/105 [==============================] - 0s 404us/step - loss: 0.0014 - accuracy: 1.0000 - val_loss: 1.7780 - val_accuracy: 0.7407\n",
      "Epoch 126/150\n",
      "105/105 [==============================] - 0s 399us/step - loss: 0.0020 - accuracy: 1.0000 - val_loss: 1.7914 - val_accuracy: 0.7407\n",
      "Epoch 127/150\n",
      "105/105 [==============================] - 0s 370us/step - loss: 0.0014 - accuracy: 1.0000 - val_loss: 1.7998 - val_accuracy: 0.7407\n",
      "Epoch 128/150\n",
      "105/105 [==============================] - 0s 446us/step - loss: 0.0017 - accuracy: 1.0000 - val_loss: 1.8023 - val_accuracy: 0.7407\n",
      "Epoch 129/150\n",
      "105/105 [==============================] - 0s 408us/step - loss: 0.0039 - accuracy: 1.0000 - val_loss: 1.7498 - val_accuracy: 0.7037\n",
      "Epoch 130/150\n",
      "105/105 [==============================] - 0s 408us/step - loss: 0.0019 - accuracy: 1.0000 - val_loss: 1.8279 - val_accuracy: 0.6667\n",
      "Epoch 131/150\n",
      "105/105 [==============================] - 0s 380us/step - loss: 0.0017 - accuracy: 1.0000 - val_loss: 1.9029 - val_accuracy: 0.6667\n",
      "Epoch 132/150\n",
      "105/105 [==============================] - 0s 418us/step - loss: 0.0014 - accuracy: 1.0000 - val_loss: 1.9295 - val_accuracy: 0.7037\n",
      "Epoch 133/150\n",
      "105/105 [==============================] - 0s 427us/step - loss: 0.0747 - accuracy: 0.9905 - val_loss: 1.8474 - val_accuracy: 0.7037\n",
      "Epoch 134/150\n",
      "105/105 [==============================] - 0s 389us/step - loss: 0.0019 - accuracy: 1.0000 - val_loss: 2.1012 - val_accuracy: 0.7037\n",
      "Epoch 135/150\n",
      "105/105 [==============================] - 0s 370us/step - loss: 0.0334 - accuracy: 0.9905 - val_loss: 1.9720 - val_accuracy: 0.6296\n",
      "Epoch 136/150\n",
      "105/105 [==============================] - 0s 427us/step - loss: 0.0020 - accuracy: 1.0000 - val_loss: 2.2127 - val_accuracy: 0.6296\n",
      "Epoch 137/150\n",
      "105/105 [==============================] - 0s 418us/step - loss: 0.0016 - accuracy: 1.0000 - val_loss: 2.4510 - val_accuracy: 0.5926\n",
      "Epoch 138/150\n",
      "105/105 [==============================] - 0s 409us/step - loss: 0.0468 - accuracy: 0.9905 - val_loss: 1.9903 - val_accuracy: 0.6667\n",
      "Epoch 139/150\n",
      "105/105 [==============================] - 0s 389us/step - loss: 0.0032 - accuracy: 1.0000 - val_loss: 2.0358 - val_accuracy: 0.5926\n",
      "Epoch 140/150\n",
      "105/105 [==============================] - 0s 408us/step - loss: 0.0959 - accuracy: 0.9905 - val_loss: 2.1244 - val_accuracy: 0.6296\n",
      "Epoch 141/150\n",
      "105/105 [==============================] - 0s 418us/step - loss: 0.0778 - accuracy: 0.9905 - val_loss: 2.2721 - val_accuracy: 0.5556\n",
      "Epoch 142/150\n",
      "105/105 [==============================] - 0s 427us/step - loss: 0.4059 - accuracy: 0.9238 - val_loss: 1.9087 - val_accuracy: 0.6667\n",
      "Epoch 143/150\n",
      "105/105 [==============================] - 0s 389us/step - loss: 0.0737 - accuracy: 0.9619 - val_loss: 2.3494 - val_accuracy: 0.6296\n",
      "Epoch 144/150\n",
      "105/105 [==============================] - 0s 427us/step - loss: 0.3693 - accuracy: 0.9143 - val_loss: 1.9584 - val_accuracy: 0.6296\n",
      "Epoch 145/150\n",
      "105/105 [==============================] - 0s 418us/step - loss: 0.0283 - accuracy: 0.9810 - val_loss: 2.6283 - val_accuracy: 0.4074\n",
      "Epoch 146/150\n",
      "105/105 [==============================] - 0s 418us/step - loss: 0.2706 - accuracy: 0.9238 - val_loss: 2.2846 - val_accuracy: 0.4815\n",
      "Epoch 147/150\n",
      "105/105 [==============================] - 0s 380us/step - loss: 0.2215 - accuracy: 0.9143 - val_loss: 1.5261 - val_accuracy: 0.6667\n",
      "Epoch 148/150\n",
      "105/105 [==============================] - 0s 418us/step - loss: 0.0335 - accuracy: 1.0000 - val_loss: 1.3995 - val_accuracy: 0.6296\n",
      "Epoch 149/150\n",
      "105/105 [==============================] - 0s 416us/step - loss: 0.0391 - accuracy: 0.9905 - val_loss: 1.5656 - val_accuracy: 0.7037\n",
      "Epoch 150/150\n",
      "105/105 [==============================] - 0s 446us/step - loss: 0.0725 - accuracy: 0.9905 - val_loss: 1.8391 - val_accuracy: 0.6296\n"
     ]
    }
   ],
   "source": [
    "hist = model.fit(emb_Xtrain,Ytrain,epochs=150,batch_size=64,shuffle=True,validation_split=0.2)"
   ]
  },
  {
   "cell_type": "code",
   "execution_count": 160,
   "metadata": {},
   "outputs": [],
   "source": [
    " pred = model.predict_classes(emb_Xtest)"
   ]
  },
  {
   "cell_type": "code",
   "execution_count": 161,
   "metadata": {},
   "outputs": [
    {
     "name": "stdout",
     "output_type": "stream",
     "text": [
      "[4 3 3 3 2 2 3 2 4 2 1 2 0 3 1 3 2 2 3 4 3 3 4 0 3 3 2 0 1 2 0 1 3 2 0 3 2\n",
      " 3 4 2 1 0 0 1 2 3 3 2 3 3 3 0 3 2 3 0]\n"
     ]
    }
   ],
   "source": [
    "print(pred)"
   ]
  },
  {
   "cell_type": "code",
   "execution_count": 162,
   "metadata": {},
   "outputs": [
    {
     "name": "stdout",
     "output_type": "stream",
     "text": [
      "56/56 [==============================] - 0s 249us/step\n"
     ]
    },
    {
     "data": {
      "text/plain": [
       "[1.9737622397286552, 0.5714285969734192]"
      ]
     },
     "execution_count": 162,
     "metadata": {},
     "output_type": "execute_result"
    }
   ],
   "source": [
    "model.evaluate(emb_Xtest,Ytest)"
   ]
  },
  {
   "cell_type": "code",
   "execution_count": 163,
   "metadata": {},
   "outputs": [
    {
     "name": "stdout",
     "output_type": "stream",
     "text": [
      "I want to eat\n",
      "🍴\n",
      "🍴\n",
      "he did not answer\n",
      "😓\n",
      "😓\n",
      "he got a raise\n",
      "😁\n",
      "😓\n",
      "she got me a present\n",
      "❤️\n",
      "😓\n",
      "ha ha ha it was so funny\n",
      "😁\n",
      "😁\n",
      "he is a good friend\n",
      "❤️\n",
      "😁\n",
      "I am upset\n",
      "❤️\n",
      "😓\n",
      "We had such a lovely dinner tonight\n",
      "❤️\n",
      "😁\n",
      "where is the food\n",
      "🍴\n",
      "🍴\n",
      "Stop making this joke ha ha ha\n",
      "😁\n",
      "😁\n",
      "where is the ball\n",
      "⚾\n",
      "⚾\n",
      "work is hard\n",
      "😓\n",
      "😁\n",
      "This girl is messing with me\n",
      "😓\n",
      "❤️\n",
      "are you serious ha ha\n",
      "😁\n",
      "😓\n",
      "Let us go play baseball\n",
      "⚾\n",
      "⚾\n",
      "This stupid grader is not working\n",
      "😓\n",
      "😓\n",
      "work is horrible\n",
      "😓\n",
      "😁\n",
      "Congratulation for having a baby\n",
      "😁\n",
      "😁\n",
      "stop messing around\n",
      "😓\n",
      "😓\n",
      "any suggestions for dinner\n",
      "🍴\n",
      "🍴\n",
      "I love taking breaks\n",
      "❤️\n",
      "😓\n",
      "you brighten my day\n",
      "😁\n",
      "😓\n",
      "I boiled rice\n",
      "🍴\n",
      "🍴\n",
      "she is a bully\n",
      "😓\n",
      "❤️\n",
      "Why are you feeling bad\n",
      "😓\n",
      "😓\n",
      "I am upset\n",
      "😓\n",
      "😓\n",
      "I worked during my birthday\n",
      "😓\n",
      "😁\n",
      "My grandmother is the love of my life\n",
      "❤️\n",
      "❤️\n",
      "enjoy your break\n",
      "😁\n",
      "⚾\n",
      "valentine day is near\n",
      "❤️\n",
      "😁\n"
     ]
    }
   ],
   "source": [
    "for i in range(30):\n",
    "    print(' '.join(Xtest[i]))\n",
    "    print(emoji.emojize(emoji_dictionary[str(np.argmax(Ytest[i]))]))\n",
    "    print(emoji.emojize(emoji_dictionary[str(pred[i])]))"
   ]
  },
  {
   "cell_type": "code",
   "execution_count": null,
   "metadata": {},
   "outputs": [],
   "source": []
  }
 ],
 "metadata": {
  "kernelspec": {
   "display_name": "Python 3",
   "language": "python",
   "name": "python3"
  },
  "language_info": {
   "codemirror_mode": {
    "name": "ipython",
    "version": 3
   },
   "file_extension": ".py",
   "mimetype": "text/x-python",
   "name": "python",
   "nbconvert_exporter": "python",
   "pygments_lexer": "ipython3",
   "version": "3.6.6"
  }
 },
 "nbformat": 4,
 "nbformat_minor": 2
}
